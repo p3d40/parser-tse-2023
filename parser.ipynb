{
 "cells": [
  {
   "cell_type": "code",
   "execution_count": 861,
   "metadata": {},
   "outputs": [],
   "source": [
    "import pandas as pd\n",
    "from os import listdir\n",
    "from os.path import isfile, join\n",
    "import numpy as np\n",
    "import scipy.stats\n",
    "import numpy as np\n",
    "from scipy.cluster.hierarchy import linkage, dendrogram\n",
    "import matplotlib.pyplot as plt"
   ]
  },
  {
   "cell_type": "code",
   "execution_count": 870,
   "metadata": {},
   "outputs": [],
   "source": [
    "plt.rcParams['figure.figsize'] = [10, 5]"
   ]
  },
  {
   "cell_type": "code",
   "execution_count": 774,
   "metadata": {},
   "outputs": [],
   "source": [
    "def mean_confidence_interval(data, confidence=0.95):\n",
    "    a = 1.0 * np.array(data)\n",
    "    n = len(a)\n",
    "    m, se = np.mean(a), scipy.stats.sem(a)\n",
    "    h = se * scipy.stats.t.ppf((1 + confidence) / 2., n-1)\n",
    "    return m, m-h, m+h"
   ]
  },
  {
   "cell_type": "code",
   "execution_count": 775,
   "metadata": {},
   "outputs": [],
   "source": [
    "DATA_DIR='GTM-pruebas/'\n",
    "PRE_DIR='1-PRESIDENTE/'\n",
    "DNC_DIR='2-DIP-NAC/'\n",
    "DDT_DIR='3-DIP-DIST/'\n",
    "MUN_DIR='4-CORPORACIÓN/'\n",
    "PAR_DIR='5-DIP-PAR/'\n",
    "pre_files = [f for f in listdir(DATA_DIR+PRE_DIR) if isfile(join(DATA_DIR+PRE_DIR, f))]\n",
    "dnc_files = [f for f in listdir(DATA_DIR+DNC_DIR) if isfile(join(DATA_DIR+DNC_DIR, f))]\n",
    "ddt_files = [f for f in listdir(DATA_DIR+DDT_DIR) if isfile(join(DATA_DIR+DDT_DIR, f))]\n",
    "mun_files = [f for f in listdir(DATA_DIR+MUN_DIR) if isfile(join(DATA_DIR+MUN_DIR, f))]\n",
    "par_files = [f for f in listdir(DATA_DIR+PAR_DIR) if isfile(join(DATA_DIR+PAR_DIR, f))]\n"
   ]
  },
  {
   "cell_type": "code",
   "execution_count": 776,
   "metadata": {},
   "outputs": [],
   "source": [
    "try:\n",
    "    del df_pre\n",
    "except:\n",
    "    pass\n",
    "try:\n",
    "    del df_dnc\n",
    "except:\n",
    "    pass\n",
    "try:\n",
    "    del df_ddt\n",
    "except:\n",
    "    pass\n",
    "try:\n",
    "    del df_mun\n",
    "except:\n",
    "    pass\n",
    "try:\n",
    "    del df_par\n",
    "except:\n",
    "    pass\n",
    "df_pre = pd.DataFrame()\n",
    "df_dnc = pd.DataFrame()\n",
    "df_ddt = pd.DataFrame()\n",
    "df_mun = pd.DataFrame()\n",
    "df_par = pd.DataFrame()\n",
    "\n",
    "for file in pre_files:\n",
    "    df_pre=df_pre.append(pd.read_csv(DATA_DIR+PRE_DIR+file,skiprows=5))\n",
    "for file in dnc_files:\n",
    "    df_dnc=df_dnc.append(pd.read_csv(DATA_DIR+DNC_DIR+file,skiprows=5))\n",
    "for file in ddt_files:\n",
    "    df_ddt=df_ddt.append(pd.read_csv(DATA_DIR+DDT_DIR+file,skiprows=5))\n",
    "for file in mun_files:\n",
    "    df_mun=df_mun.append(pd.read_csv(DATA_DIR+MUN_DIR+file,skiprows=5))\n",
    "for file in par_files:\n",
    "    df_par=df_par.append(pd.read_csv(DATA_DIR+PAR_DIR+file,skiprows=5))\n",
    "\n",
    "df_pre = df_pre.fillna(0)\n",
    "df_dnc = df_dnc.fillna(0)\n",
    "df_ddt = df_ddt.fillna(0)\n",
    "df_mun = df_mun.fillna(0)\n",
    "df_par = df_par.fillna(0)"
   ]
  },
  {
   "cell_type": "code",
   "execution_count": 777,
   "metadata": {},
   "outputs": [],
   "source": [
    "partidos_pre=list(df_pre.columns[7:29])"
   ]
  },
  {
   "cell_type": "code",
   "execution_count": 778,
   "metadata": {},
   "outputs": [],
   "source": [
    "for partido in partidos_pre:\n",
    "    df_pre[partido] = df_pre[partido].replace({'--':0})\n",
    "    #print(partido)\n",
    "    df_pre[partido] = df_pre[partido].astype(int)\n",
    "    \n",
    "df_pre['NULOS'] = df_pre['NULOS'].replace({'--':0})\n",
    "df_pre['NULOS'] = df_pre['NULOS'].astype(int)\n",
    "df_dnc['NULOS'] = df_dnc['NULOS'].replace({'--':0})\n",
    "df_dnc['NULOS'] = df_dnc['NULOS'].astype(int)\n",
    "df_ddt['NULOS'] = df_ddt['NULOS'].replace({'--':0})\n",
    "df_ddt['NULOS'] = df_ddt['NULOS'].astype(int)\n",
    "df_mun['NULOS'] = df_mun['NULOS'].replace({'--':0})\n",
    "df_mun['NULOS'] = df_mun['NULOS'].astype(int)\n",
    "df_par['NULOS'] = df_par['NULOS'].replace({'--':0})\n",
    "df_par['NULOS'] = df_par['NULOS'].astype(int)\n",
    "\n",
    "df_pre['VÁLIDOS'] = df_pre['VÁLIDOS'].replace({'--':0})\n",
    "df_pre['VÁLIDOS'] = df_pre['VÁLIDOS'].astype(int)\n",
    "df_dnc['VÁLIDOS'] = df_dnc['VÁLIDOS'].replace({'--':0})\n",
    "df_dnc['VÁLIDOS'] = df_dnc['VÁLIDOS'].astype(int)\n",
    "df_ddt['VÁLIDOS'] = df_ddt['VÁLIDOS'].replace({'--':0})\n",
    "df_ddt['VÁLIDOS'] = df_ddt['VÁLIDOS'].astype(int)\n",
    "df_mun['VÁLIDOS'] = df_mun['VÁLIDOS'].replace({'--':0})\n",
    "df_mun['VÁLIDOS'] = df_mun['VÁLIDOS'].astype(int)\n",
    "df_par['VÁLIDOS'] = df_par['VÁLIDOS'].replace({'--':0})\n",
    "df_par['VÁLIDOS'] = df_par['VÁLIDOS'].astype(int)\n",
    "\n",
    "df_pre['TOTAL'] = df_pre['TOTAL'].replace({'--':0})\n",
    "df_pre['TOTAL'] = df_pre['TOTAL'].astype(int)\n",
    "df_dnc['TOTAL'] = df_dnc['TOTAL'].replace({'--':0})\n",
    "df_dnc['TOTAL'] = df_dnc['TOTAL'].astype(int)\n",
    "df_ddt['TOTAL'] = df_ddt['TOTAL'].replace({'--':0})\n",
    "df_ddt['TOTAL'] = df_ddt['TOTAL'].astype(int)\n",
    "df_mun['TOTAL'] = df_mun['TOTAL'].replace({'--':0})\n",
    "df_mun['TOTAL'] = df_mun['TOTAL'].astype(int)\n",
    "df_par['TOTAL'] = df_par['TOTAL'].replace({'--':0})\n",
    "df_par['TOTAL'] = df_par['TOTAL'].astype(int)\n",
    "\n",
    "df_pre['EMITIDOS'] = df_pre['EMITIDOS'].replace({'--':0})\n",
    "df_pre['EMITIDOS'] = df_pre['EMITIDOS'].astype(int)\n",
    "df_dnc['EMITIDOS'] = df_dnc['EMITIDOS'].replace({'--':0})\n",
    "df_dnc['EMITIDOS'] = df_dnc['EMITIDOS'].astype(int)\n",
    "df_ddt['EMITIDOS'] = df_ddt['EMITIDOS'].replace({'--':0})\n",
    "df_ddt['EMITIDOS'] = df_ddt['EMITIDOS'].astype(int)\n",
    "df_mun['EMITIDOS'] = df_mun['EMITIDOS'].replace({'--':0})\n",
    "df_mun['EMITIDOS'] = df_mun['EMITIDOS'].astype(int)\n",
    "df_par['EMITIDOS'] = df_par['EMITIDOS'].replace({'--':0})\n",
    "df_par['EMITIDOS'] = df_par['EMITIDOS'].astype(int)\n",
    " \n",
    "df_pre['PAPELETAS-RECIBIDAS'] = df_pre['PAPELETAS-RECIBIDAS'].replace({'--':0})\n",
    "df_pre['PAPELETAS-RECIBIDAS'] = df_pre['PAPELETAS-RECIBIDAS'].astype(int)\n",
    "df_pre['PAPELETAS-NO-USADAS'] = df_pre['PAPELETAS-NO-USADAS'].replace({'--':0})\n",
    "df_pre['PAPELETAS-NO-USADAS'] = df_pre['PAPELETAS-NO-USADAS'].astype(int)\n"
   ]
  },
  {
   "cell_type": "code",
   "execution_count": 779,
   "metadata": {},
   "outputs": [],
   "source": [
    "partidos_mun=list(df_mun.columns[7:22])+list(df_mun.columns[39:])"
   ]
  },
  {
   "cell_type": "code",
   "execution_count": 780,
   "metadata": {
    "scrolled": true
   },
   "outputs": [],
   "source": [
    "for partido in partidos_mun:\n",
    "    df_mun[partido] = df_mun[partido].replace({'--':0})\n",
    "    #print(partido)\n",
    "    df_mun[partido] = df_mun[partido].astype(int)"
   ]
  },
  {
   "cell_type": "code",
   "execution_count": 781,
   "metadata": {},
   "outputs": [
    {
     "name": "stdout",
     "output_type": "stream",
     "text": [
      "Actualización de votos nulos:\n",
      "\n",
      "Presidente: 18% de 5,443,654\n",
      "Diputados Nacional: 15% de 5,469,559\n",
      "Diputados Distrital: 12% de 5,464,735\n",
      "Municipal: 5% de 5,480,493\n",
      "Parlacen: 22% de 5,467,535\n",
      "\n",
      "23,918 (97%) de 24,585 actas reportadas\n",
      "#EleccionesGT2023\n"
     ]
    }
   ],
   "source": [
    "#Nulos\n",
    "print(\"Actualización de votos nulos:\\n\")\n",
    "print(\"Presidente: \"+\"{:.0f}\".format(100*df_pre['NULOS'].sum()/df_pre['TOTAL'].sum())+ \"% de \"+\"{:,}\".format(int(df_pre['TOTAL'].sum())))\n",
    "print(\"Diputados Nacional: \"+\"{:.0f}\".format(100*df_dnc['NULOS'].sum()/df_dnc['TOTAL'].sum())+ \"% de \"+\"{:,}\".format(int(df_dnc['TOTAL'].sum())))\n",
    "print(\"Diputados Distrital: \"+\"{:.0f}\".format(100*df_ddt['NULOS'].sum()/df_ddt['TOTAL'].sum())+ \"% de \"+\"{:,}\".format(int(df_ddt['TOTAL'].sum())))\n",
    "print(\"Municipal: \"+\"{:.0f}\".format(100*df_mun['NULOS'].sum()/df_mun['TOTAL'].sum())+ \"% de \"+\"{:,}\".format(int(df_mun['TOTAL'].sum())))\n",
    "print(\"Parlacen: \"+\"{:.0f}\".format(100*df_par['NULOS'].sum()/df_par['TOTAL'].sum())+ \"% de \"+\"{:,}\".format(int(df_par['TOTAL'].sum())))\n",
    "print(\"\\n{:,}\".format(int(df_pre[partidos_pre].astype(bool).sum().max())) +\" (\"+\"{:.0f}\".format(100*int(df_pre[partidos_pre].astype(bool).sum().max())/len(df_pre)) +\"%) de \" +\"{:,}\".format(len(df_pre))+\" actas reportadas\")\n",
    "print('#EleccionesGT2023')"
   ]
  },
  {
   "cell_type": "code",
   "execution_count": 782,
   "metadata": {},
   "outputs": [
    {
     "name": "stdout",
     "output_type": "stream",
     "text": [
      "Actualización para presidente:\n",
      "\n",
      "UNE 15.9%\n",
      "SEMILLA 11.9%\n",
      "VAMOS 7.9%\n",
      "VIVA 7.4%\n",
      "CABAL 6.8%\n",
      "VALOR UNIONISTA 6.6%\n",
      "\n",
      "23,918 (97%) de 24,585 actas reportadas\n",
      "#EleccionesGT2023\n"
     ]
    }
   ],
   "source": [
    "print(\"Actualización para presidente:\\n\")\n",
    "for index, item in df_pre[partidos_pre].sum().divide(df_pre['TOTAL'].sum()/100).sort_values(ascending=False)[:6].items():\n",
    "    print(index+\" {:.1f}\".format(item)+\"%\")\n",
    "print(\"\\n{:,}\".format(int(df_pre[partidos_pre].astype(bool).sum().max())) +\" (\"+\"{:.0f}\".format(100*int(df_pre[partidos_pre].astype(bool).sum().max())/len(df_pre)) +\"%) de \" +\"{:,}\".format(len(df_pre))+\" actas reportadas\")\n",
    "print('#EleccionesGT2023')"
   ]
  },
  {
   "cell_type": "code",
   "execution_count": 783,
   "metadata": {},
   "outputs": [],
   "source": [
    "#municipalidad\n",
    "alcaldes={}\n",
    "for index, row in df_mun[partidos_mun].groupby(df_mun['MUNICIPIO']).sum().iterrows():\n",
    "    if row.max()>0:\n",
    "        partido_temp=row.idxmax()\n",
    "        #print(partido_temp,row.name)\n",
    "        try:\n",
    "            alcaldes[partido_temp]+=1\n",
    "        except:\n",
    "            alcaldes[partido_temp]=1\n"
   ]
  },
  {
   "cell_type": "code",
   "execution_count": 784,
   "metadata": {},
   "outputs": [
    {
     "name": "stdout",
     "output_type": "stream",
     "text": [
      "VAMOS 129\n",
      "PHG 4\n",
      "UNE 37\n",
      "C.C.A. 1\n",
      "ELEFANTE 2\n",
      "VALOR 13\n",
      "FUTURO 1\n",
      "COCIMI 1\n",
      "TODOS 15\n",
      "CCC 2\n",
      "VICTORIA 5\n",
      "CABAL 50\n",
      "CREO 3\n",
      "AZUL 2\n",
      "VALOR UNIONISTA 9\n",
      "VIVA 8\n",
      "CH ICH 1\n",
      "PODEMOS 5\n",
      "LIBRE CIUDAD VIEJA 1\n",
      "CCDC 1\n",
      "BIEN 6\n",
      "U R N G - MAIZ 2\n",
      "COCIPROG 1\n",
      "PPN 10\n",
      "CAMBIO 4\n",
      "PPG 1\n",
      "SEMILLA 1\n",
      "MLP 2\n",
      "SAMAJEL 1\n",
      "COCIECH 1\n",
      "EL TUNO 1\n",
      "UNIONISTA 2\n",
      "VOS 1\n",
      "COCIEES 1\n",
      "DESANRAY 1\n",
      "CC SOMOS STA CATARINA BARAHONA 1\n",
      "CABRA 1\n",
      "SUD 1\n",
      "COMITE CIVICO SOMOS SUMPANGO 1\n",
      "C.C.T. 1\n",
      "CCER-19PAZ 1\n",
      "WINAQ 1\n"
     ]
    }
   ],
   "source": [
    "for partido in alcaldes:\n",
    "    print(partido +\" \"+str(alcaldes[partido]))"
   ]
  },
  {
   "cell_type": "code",
   "execution_count": 785,
   "metadata": {},
   "outputs": [
    {
     "name": "stdout",
     "output_type": "stream",
     "text": [
      "Estimación actual alcaldes:\n",
      "\n",
      "VAMOS 129\n",
      "CABAL 50\n",
      "UNE 37\n",
      "TODOS 15\n",
      "VALOR 13\n",
      "PPN 10\n",
      "VALOR UNIONISTA 9\n",
      "VIVA 8\n",
      "BIEN 6\n",
      "VICTORIA 5\n",
      "PODEMOS 5\n",
      "PHG 4\n",
      "CAMBIO 4\n",
      "CREO 3\n",
      "ELEFANTE 2\n",
      "CCC 2\n",
      "AZUL 2\n",
      "U R N G - MAIZ 2\n",
      "MLP 2\n",
      "UNIONISTA 2\n",
      "C.C.A. 1\n",
      "FUTURO 1\n",
      "COCIMI 1\n",
      "CH ICH 1\n",
      "LIBRE CIUDAD VIEJA 1\n",
      "CCDC 1\n",
      "COCIPROG 1\n",
      "PPG 1\n",
      "SEMILLA 1\n",
      "SAMAJEL 1\n",
      "COCIECH 1\n",
      "EL TUNO 1\n",
      "VOS 1\n",
      "COCIEES 1\n",
      "DESANRAY 1\n",
      "CC SOMOS STA CATARINA BARAHONA 1\n",
      "CABRA 1\n",
      "SUD 1\n",
      "COMITE CIVICO SOMOS SUMPANGO 1\n",
      "C.C.T. 1\n",
      "CCER-19PAZ 1\n",
      "WINAQ 1\n",
      "\n",
      "23,019 (94%) de 24,427 actas reportadas\n",
      "#EleccionesGT2023\n"
     ]
    }
   ],
   "source": [
    "print(\"Estimación actual alcaldes:\\n\")\n",
    "for (partido, numeros) in sorted(alcaldes.items(), key=lambda x:x[1], reverse=True):\n",
    "    print(partido, numeros)\n",
    "print(\"\\n{:,}\".format(int(df_mun[partidos_mun].astype(bool).sum().max())) +\" (\"+\"{:.0f}\".format(100*int(df_mun[partidos_mun].astype(bool).sum().max())/len(df_mun)) +\"%) de \" +\"{:,}\".format(len(df_mun))+\" actas reportadas\")\n",
    "print('#EleccionesGT2023')"
   ]
  },
  {
   "cell_type": "code",
   "execution_count": 786,
   "metadata": {},
   "outputs": [],
   "source": [
    "absten=[]\n",
    "for index, row in df_pre.iterrows():\n",
    "    usadas=int(row['PAPELETAS-RECIBIDAS'])\n",
    "    no_usadas=int(row['PAPELETAS-NO-USADAS'])\n",
    "    if (usadas>0 and no_usadas>0):\n",
    "      absten.append(usadas/(usadas+no_usadas))  "
   ]
  },
  {
   "cell_type": "code",
   "execution_count": 787,
   "metadata": {},
   "outputs": [
    {
     "data": {
      "text/plain": [
       "(0.7226890012308647, 0.7217380444453876, 0.7236399580163417)"
      ]
     },
     "execution_count": 787,
     "metadata": {},
     "output_type": "execute_result"
    }
   ],
   "source": [
    "mean_confidence_interval(absten)"
   ]
  },
  {
   "cell_type": "code",
   "execution_count": 822,
   "metadata": {},
   "outputs": [],
   "source": [
    "#Diputados Nacional\n",
    "total_nac=32\n",
    "partidos_dnc=list(df_dnc.columns[7:33])#+['NULOS']"
   ]
  },
  {
   "cell_type": "code",
   "execution_count": 824,
   "metadata": {},
   "outputs": [],
   "source": [
    "for partido in partidos_dnc:\n",
    "    df_dnc[partido] = df_dnc[partido].replace({'--':0})\n",
    "    #print(partido)\n",
    "    df_dnc[partido] = df_dnc[partido].astype(int)"
   ]
  },
  {
   "cell_type": "code",
   "execution_count": 825,
   "metadata": {},
   "outputs": [],
   "source": [
    "dhondt=[]\n",
    "for index, item in df_dnc[partidos_dnc].sum().items():\n",
    "    for i in range(total_nac):\n",
    "        dhondt.append((index,item/(i+1)))"
   ]
  },
  {
   "cell_type": "code",
   "execution_count": 826,
   "metadata": {},
   "outputs": [],
   "source": [
    "dhondt.sort(key = lambda x: x[1], reverse=True)"
   ]
  },
  {
   "cell_type": "code",
   "execution_count": 827,
   "metadata": {},
   "outputs": [],
   "source": [
    "dip_dnc={}\n",
    "top_dnc=dhondt[:total_nac]\n",
    "for (partido, numeros) in top_dnc:\n",
    "    try:\n",
    "        dip_dnc[partido]+=1\n",
    "    except:\n",
    "        dip_dnc[partido]=1\n"
   ]
  },
  {
   "cell_type": "code",
   "execution_count": 828,
   "metadata": {},
   "outputs": [
    {
     "name": "stdout",
     "output_type": "stream",
     "text": [
      "Estimación actual diputados lista nacional:\n",
      "\n",
      "VAMOS 6\n",
      "UNE 5\n",
      "SEMILLA 5\n",
      "CABAL 3\n",
      "VIVA 3\n",
      "VALOR UNIONISTA 2\n",
      "VOS 1\n",
      "TODOS 1\n",
      "URNG-MAIZ WINAQ 1\n",
      "PPN 1\n",
      "VICTORIA 1\n",
      "BIEN 1\n",
      "AZUL 1\n",
      "ELEFANTE 1\n",
      "\n",
      "23,736 (97%) de 24,427 actas reportadas\n",
      "#EleccionesGT2023\n"
     ]
    }
   ],
   "source": [
    "print(\"Estimación actual diputados lista nacional:\\n\")\n",
    "for (partido, numeros) in sorted(dip_dnc.items(), key=lambda x:x[1], reverse=True):\n",
    "    print(partido, numeros)\n",
    "print(\"\\n{:,}\".format(int(df_dnc[partidos_dnc].astype(bool).sum().max())) +\" (\"+\"{:.0f}\".format(100*int(df_dnc[partidos_dnc].astype(bool).sum().max())/len(df_dnc)) +\"%) de \" +\"{:,}\".format(len(df_dnc))+\" actas reportadas\")\n",
    "print('#EleccionesGT2023')"
   ]
  },
  {
   "cell_type": "code",
   "execution_count": 829,
   "metadata": {},
   "outputs": [],
   "source": [
    "#distritales\n",
    "partidos_ddt=list(df_ddt.columns[7:33])+list(df_ddt.columns[50:])#+['NULOS']\n",
    "for partido in partidos_ddt:\n",
    "    df_ddt[partido] = df_ddt[partido].replace({'--':0})\n",
    "    df_ddt[partido] = df_ddt[partido].astype(int)"
   ]
  },
  {
   "cell_type": "code",
   "execution_count": 830,
   "metadata": {},
   "outputs": [],
   "source": [
    "total_ddt={\n",
    "    'Alta Verapaz':9,\n",
    "    'Baja Verapaz':2,\n",
    "    'Chimaltenango':5,\n",
    "    'Distrito Central':11,\n",
    "    'Chiquimula':3,\n",
    "    'El Progreso':2,\n",
    "    'Escuintla':6,\n",
    "    'Guatemala':19,\n",
    "    'Huehuetenango':10,\n",
    "    'Izabal':3,\n",
    "    'Jalapa':3,\n",
    "    'Jutiapa':4,\n",
    "    'Petén':4,\n",
    "    'Quetzaltenango':7,\n",
    "    'Quiché':8,\n",
    "    'Retalhuleu':3,\n",
    "    'Sacatepéquez':3,\n",
    "    'San Marcos':9,\n",
    "    'Santa Rosa':3,\n",
    "    'Sololá':3,\n",
    "    'Suchitepéquez':5,\n",
    "    'Totonicapán':4,\n",
    "    'Zacapa':2,\n",
    "    \n",
    "}"
   ]
  },
  {
   "cell_type": "code",
   "execution_count": 831,
   "metadata": {},
   "outputs": [],
   "source": [
    "#df_ddt[partidos_ddt].groupby(df_ddt['DEPARTAMENTO']).sum()"
   ]
  },
  {
   "cell_type": "code",
   "execution_count": 832,
   "metadata": {},
   "outputs": [],
   "source": [
    "dip_ddt={}\n",
    "for index, row in df_ddt[partidos_ddt].groupby(df_ddt['DEPARTAMENTO']).sum().iterrows():\n",
    "    dhondt_temp=[]\n",
    "    for partido in partidos_ddt:\n",
    "        for i in range(total_ddt[row.name]):\n",
    "            dhondt_temp.append((partido,row[partido]/(i+1)))\n",
    "    dhondt_temp.sort(key = lambda x: x[1], reverse=True)\n",
    "    dip_ddt[row.name]={}\n",
    "    top_ddt_temp=dhondt_temp[:total_ddt[row.name]]\n",
    "    for (partido_t, numeros) in top_ddt_temp:\n",
    "        try:\n",
    "            dip_ddt[row.name][partido_t]+=1\n",
    "        except:\n",
    "            dip_ddt[row.name][partido_t]=1\n"
   ]
  },
  {
   "cell_type": "code",
   "execution_count": 833,
   "metadata": {},
   "outputs": [
    {
     "name": "stdout",
     "output_type": "stream",
     "text": [
      "\n",
      "Estimación actual diputados distritales (Alta Verapaz):\n",
      "\n",
      "UNE 3\n",
      "VAMOS 2\n",
      "VICTORIA 2\n",
      "PPN 1\n",
      "VIVA 1\n",
      "\n",
      "Reportado 96%\n",
      "#EleccionesGT2023\n",
      "\n",
      "Estimación actual diputados distritales (Baja Verapaz):\n",
      "\n",
      "UNE 1\n",
      "CABAL 1\n",
      "\n",
      "Reportado 100%\n",
      "#EleccionesGT2023\n",
      "\n",
      "Estimación actual diputados distritales (Chimaltenango):\n",
      "\n",
      "VAMOS 1\n",
      "CABAL 1\n",
      "UNE 1\n",
      "SEMILLA 1\n",
      "VIVA 1\n",
      "\n",
      "Reportado 94%\n",
      "#EleccionesGT2023\n",
      "\n",
      "Estimación actual diputados distritales (Chiquimula):\n",
      "\n",
      "CAMBIO 1\n",
      "VAMOS 1\n",
      "UNE 1\n",
      "\n",
      "Reportado 99%\n",
      "#EleccionesGT2023\n",
      "\n",
      "Estimación actual diputados distritales (Distrito Central):\n",
      "\n",
      "SEMILLA 7\n",
      "CREO 2\n",
      "VOS 1\n",
      "VALOR UNIONISTA 1\n",
      "\n",
      "Reportado 99%\n",
      "#EleccionesGT2023\n",
      "\n",
      "Estimación actual diputados distritales (El Progreso):\n",
      "\n",
      "VAMOS 1\n",
      "VALOR 1\n",
      "\n",
      "Reportado 100%\n",
      "#EleccionesGT2023\n",
      "\n",
      "Estimación actual diputados distritales (Escuintla):\n",
      "\n",
      "UNE 2\n",
      "VALOR 1\n",
      "VAMOS 1\n",
      "CABAL 1\n",
      "VIVA 1\n",
      "\n",
      "Reportado 94%\n",
      "#EleccionesGT2023\n",
      "\n",
      "Estimación actual diputados distritales (Guatemala):\n",
      "\n",
      "SEMILLA 7\n",
      "UNE 2\n",
      "VOS 2\n",
      "VALOR 2\n",
      "VAMOS 2\n",
      "VIVA 1\n",
      "CABAL 1\n",
      "ELEFANTE 1\n",
      "BIEN 1\n",
      "\n",
      "Reportado 97%\n",
      "#EleccionesGT2023\n",
      "\n",
      "Estimación actual diputados distritales (Huehuetenango):\n",
      "\n",
      "VAMOS 4\n",
      "UNE 3\n",
      "CABAL 1\n",
      "TODOS 1\n",
      "BIEN 1\n",
      "\n",
      "Reportado 99%\n",
      "#EleccionesGT2023\n",
      "\n",
      "Estimación actual diputados distritales (Izabal):\n",
      "\n",
      "VAMOS 2\n",
      "UNE 1\n",
      "\n",
      "Reportado 99%\n",
      "#EleccionesGT2023\n",
      "\n",
      "Estimación actual diputados distritales (Jalapa):\n",
      "\n",
      "CABAL 1\n",
      "VALOR 1\n",
      "VAMOS 1\n",
      "\n",
      "Reportado 97%\n",
      "#EleccionesGT2023\n",
      "\n",
      "Estimación actual diputados distritales (Jutiapa):\n",
      "\n",
      "VAMOS 1\n",
      "CABAL 1\n",
      "TODOS 1\n",
      "AZUL 1\n",
      "\n",
      "Reportado 99%\n",
      "#EleccionesGT2023\n",
      "\n",
      "Estimación actual diputados distritales (Petén):\n",
      "\n",
      "UNE 2\n",
      "VAMOS 1\n",
      "VIVA 1\n",
      "\n",
      "Reportado 100%\n",
      "#EleccionesGT2023\n",
      "\n",
      "Estimación actual diputados distritales (Quetzaltenango):\n",
      "\n",
      "VAMOS 2\n",
      "SEMILLA 1\n",
      "VALOR UNIONISTA 1\n",
      "TODOS 1\n",
      "UNE 1\n",
      "VIVA 1\n",
      "\n",
      "Reportado 100%\n",
      "#EleccionesGT2023\n",
      "\n",
      "Estimación actual diputados distritales (Quiché):\n",
      "\n",
      "VAMOS 3\n",
      "UNE 2\n",
      "CABAL 2\n",
      "VALOR UNIONISTA 1\n",
      "\n",
      "Reportado 99%\n",
      "#EleccionesGT2023\n",
      "\n",
      "Estimación actual diputados distritales (Retalhuleu):\n",
      "\n",
      "VALOR 1\n",
      "CABAL 1\n",
      "VAMOS 1\n",
      "\n",
      "Reportado 92%\n",
      "#EleccionesGT2023\n",
      "\n",
      "Estimación actual diputados distritales (Sacatepéquez):\n",
      "\n",
      "SEMILLA 2\n",
      "CABAL 1\n",
      "\n",
      "Reportado 100%\n",
      "#EleccionesGT2023\n",
      "\n",
      "Estimación actual diputados distritales (San Marcos):\n",
      "\n",
      "VAMOS 2\n",
      "UNE 1\n",
      "CABAL 1\n",
      "CREO 1\n",
      "PPN 1\n",
      "BIEN 1\n",
      "TODOS 1\n",
      "VIVA 1\n",
      "\n",
      "Reportado 96%\n",
      "#EleccionesGT2023\n",
      "\n",
      "Estimación actual diputados distritales (Santa Rosa):\n",
      "\n",
      "VAMOS 2\n",
      "UNE 1\n",
      "\n",
      "Reportado 99%\n",
      "#EleccionesGT2023\n",
      "\n",
      "Estimación actual diputados distritales (Sololá):\n",
      "\n",
      "VAMOS 2\n",
      "CABAL 1\n",
      "\n",
      "Reportado 100%\n",
      "#EleccionesGT2023\n",
      "\n",
      "Estimación actual diputados distritales (Suchitepéquez):\n",
      "\n",
      "VAMOS 2\n",
      "UNE 1\n",
      "TODOS 1\n",
      "VIVA 1\n",
      "\n",
      "Reportado 95%\n",
      "#EleccionesGT2023\n",
      "\n",
      "Estimación actual diputados distritales (Totonicapán):\n",
      "\n",
      "UNE 1\n",
      "CABAL 1\n",
      "VAMOS 1\n",
      "VALOR 1\n",
      "\n",
      "Reportado 99%\n",
      "#EleccionesGT2023\n",
      "\n",
      "Estimación actual diputados distritales (Zacapa):\n",
      "\n",
      "CABAL 1\n",
      "VAMOS 1\n",
      "\n",
      "Reportado 99%\n",
      "#EleccionesGT2023\n"
     ]
    }
   ],
   "source": [
    "for departamento in dip_ddt:\n",
    "    print(\"\\nEstimación actual diputados distritales (\"+departamento+\"):\\n\")\n",
    "    for partido in dip_ddt[departamento]:\n",
    "        print(partido, dip_ddt[departamento][partido])\n",
    "    #print(\"\\n{:,}\".format(int(df_ddt[partidos_ddt].astype(bool).sum().max())) +\" (\"+\"{:.0f}\".format(100*int(df_ddt[partidos_ddt].astype(bool).sum().max())/len(df_ddt)) +\"%) de \" +\"{:,}\".format(len(df_ddt))+\" actas reportadas\")\n",
    "    print(\"\\nReportado\"+\" {:.0f}\".format(100*df_ddt[df_ddt[\"DEPARTAMENTO\"]==departamento][partidos_ddt].astype(bool).sum().max()/len(df_ddt[df_ddt[\"DEPARTAMENTO\"]==departamento]))+\"%\")\n",
    "    print('#EleccionesGT2023')\n",
    "\n"
   ]
  },
  {
   "cell_type": "code",
   "execution_count": 820,
   "metadata": {},
   "outputs": [],
   "source": [
    "dip_tot_ddt={}\n",
    "for departamento in dip_ddt:\n",
    "    for partido in dip_ddt[departamento]:\n",
    "        try:\n",
    "            dip_tot_ddt[partido]+=dip_ddt[departamento][partido]\n",
    "        except:\n",
    "            dip_tot_ddt[partido]=dip_ddt[departamento][partido]"
   ]
  },
  {
   "cell_type": "code",
   "execution_count": 821,
   "metadata": {},
   "outputs": [
    {
     "name": "stdout",
     "output_type": "stream",
     "text": [
      "Estimado actual total diputados distritales:\n",
      "\n",
      "VAMOS 28\n",
      "NULOS 26\n",
      "UNE 18\n",
      "SEMILLA 15\n",
      "CABAL 13\n",
      "VALOR 5\n",
      "TODOS 5\n",
      "VIVA 4\n",
      "VOS 3\n",
      "VALOR UNIONISTA 3\n",
      "PPN 2\n",
      "CREO 2\n",
      "VICTORIA 1\n",
      "CAMBIO 1\n",
      "ELEFANTE 1\n",
      "BIEN 1\n",
      "\n",
      "23,932 (98%) de 24,427 actas reportadas\n",
      "#EleccionesGT2023\n"
     ]
    }
   ],
   "source": [
    "print(\"Estimado actual total diputados distritales:\\n\")\n",
    "for partido in dict(sorted(dip_tot_ddt.items(), key=lambda item: item[1], reverse=True)):\n",
    "    print(partido,dip_tot_ddt[partido])\n",
    "print(\"\\n{:,}\".format(int(df_ddt[partidos_ddt].astype(bool).sum().max())) +\" (\"+\"{:.0f}\".format(100*int(df_ddt[partidos_ddt].astype(bool).sum().max())/len(df_ddt)) +\"%) de \" +\"{:,}\".format(len(df_ddt))+\" actas reportadas\")\n",
    "print('#EleccionesGT2023')\n"
   ]
  },
  {
   "cell_type": "code",
   "execution_count": 801,
   "metadata": {},
   "outputs": [
    {
     "name": "stdout",
     "output_type": "stream",
     "text": [
      "Reporte para presidente hasta el momento:\n",
      "\n",
      "Alta Verapaz 95%\n",
      "Baja Verapaz 100%\n",
      "Chimaltenango 95%\n",
      "Chiquimula 100%\n",
      "Distrito Central 99%\n",
      "El Progreso 99%\n",
      "Escuintla 90%\n",
      "Guatemala 98%\n",
      "Huehuetenango 99%\n",
      "Izabal 98%\n",
      "Jalapa 98%\n",
      "Jutiapa 99%\n",
      "Petén 100%\n",
      "Quetzaltenango 99%\n",
      "Quiché 99%\n",
      "Retalhuleu 92%\n",
      "Sacatepéquez 100%\n",
      "San Marcos 99%\n",
      "Santa Rosa 99%\n",
      "Sololá 99%\n",
      "Suchitepéquez 95%\n",
      "Totonicapán 99%\n",
      "Zacapa 100%\n",
      "\n",
      "#EleccionesGT2023\n"
     ]
    }
   ],
   "source": [
    "#reportado\n",
    "print(\"Reporte para presidente hasta el momento:\\n\")\n",
    "for departamento in dip_ddt:\n",
    "    print(departamento+\" {:.0f}\".format(100*df_pre[df_pre[\"DEPARTAMENTO\"]==departamento][partidos_pre].astype(bool).sum().max()/len(df_pre[df_pre[\"DEPARTAMENTO\"]==departamento]))+\"%\")\n",
    "print(\"\\n#EleccionesGT2023\")"
   ]
  },
  {
   "cell_type": "code",
   "execution_count": 802,
   "metadata": {},
   "outputs": [
    {
     "name": "stdout",
     "output_type": "stream",
     "text": [
      "Reportado para alcaldes hasta el momento:\n",
      "\n",
      "Alta Verapaz 96%\n",
      "Baja Verapaz 90%\n",
      "Chimaltenango 92%\n",
      "Chiquimula 99%\n",
      "Distrito Central 99%\n",
      "El Progreso 100%\n",
      "Escuintla 95%\n",
      "Guatemala 97%\n",
      "Huehuetenango 99%\n",
      "Izabal 99%\n",
      "Jalapa 97%\n",
      "Jutiapa 92%\n",
      "Petén 100%\n",
      "Quetzaltenango 99%\n",
      "Quiché 99%\n",
      "Retalhuleu 92%\n",
      "Sacatepéquez 99%\n",
      "San Marcos 94%\n",
      "Santa Rosa 100%\n",
      "Sololá 100%\n",
      "Suchitepéquez 96%\n",
      "Totonicapán 99%\n",
      "Zacapa 99%\n",
      "\n",
      "#EleccionesGT2023\n"
     ]
    }
   ],
   "source": [
    "print(\"Reportado para alcaldes hasta el momento:\\n\")\n",
    "for departamento in dip_ddt:\n",
    "    print(departamento+\" {:.0f}\".format(100*df_mun[df_mun[\"DEPARTAMENTO\"]==departamento][partidos_mun].astype(bool).sum().max()/len(df_mun[df_mun[\"DEPARTAMENTO\"]==departamento]))+\"%\")\n",
    "print(\"\\n#EleccionesGT2023\")"
   ]
  },
  {
   "cell_type": "code",
   "execution_count": 803,
   "metadata": {},
   "outputs": [
    {
     "name": "stdout",
     "output_type": "stream",
     "text": [
      "Reportado para diputados lista nacional hasta el momento:\n",
      "\n",
      "Alta Verapaz 96%\n",
      "Baja Verapaz 99%\n",
      "Chimaltenango 95%\n",
      "Chiquimula 100%\n",
      "Distrito Central 99%\n",
      "El Progreso 99%\n",
      "Escuintla 95%\n",
      "Guatemala 97%\n",
      "Huehuetenango 99%\n",
      "Izabal 99%\n",
      "Jalapa 97%\n",
      "Jutiapa 99%\n",
      "Petén 100%\n",
      "Quetzaltenango 99%\n",
      "Quiché 99%\n",
      "Retalhuleu 92%\n",
      "Sacatepéquez 100%\n",
      "San Marcos 97%\n",
      "Santa Rosa 99%\n",
      "Sololá 99%\n",
      "Suchitepéquez 95%\n",
      "Totonicapán 99%\n",
      "Zacapa 99%\n",
      "\n",
      "#EleccionesGT2023\n"
     ]
    }
   ],
   "source": [
    "print(\"Reportado para diputados lista nacional hasta el momento:\\n\")\n",
    "for departamento in dip_ddt:\n",
    "    print(departamento+\" {:.0f}\".format(100*df_dnc[df_dnc[\"DEPARTAMENTO\"]==departamento][partidos_dnc].astype(bool).sum().max()/len(df_dnc[df_dnc[\"DEPARTAMENTO\"]==departamento]))+\"%\")\n",
    "print(\"\\n#EleccionesGT2023\")"
   ]
  },
  {
   "cell_type": "code",
   "execution_count": 804,
   "metadata": {
    "scrolled": true
   },
   "outputs": [
    {
     "name": "stdout",
     "output_type": "stream",
     "text": [
      "Reportado para diputados distritales hasta el momento:\n",
      "\n",
      "Alta Verapaz 96%\n",
      "Baja Verapaz 100%\n",
      "Chimaltenango 94%\n",
      "Chiquimula 99%\n",
      "Distrito Central 99%\n",
      "El Progreso 100%\n",
      "Escuintla 94%\n",
      "Guatemala 97%\n",
      "Huehuetenango 99%\n",
      "Izabal 99%\n",
      "Jalapa 97%\n",
      "Jutiapa 99%\n",
      "Petén 100%\n",
      "Quetzaltenango 100%\n",
      "Quiché 99%\n",
      "Retalhuleu 92%\n",
      "Sacatepéquez 100%\n",
      "San Marcos 96%\n",
      "Santa Rosa 99%\n",
      "Sololá 100%\n",
      "Suchitepéquez 95%\n",
      "Totonicapán 99%\n",
      "Zacapa 99%\n",
      "\n",
      "#EleccionesGT2023\n"
     ]
    }
   ],
   "source": [
    "print(\"Reportado para diputados distritales hasta el momento:\\n\")\n",
    "for departamento in dip_ddt:\n",
    "    print(departamento+\" {:.0f}\".format(100*df_ddt[df_ddt[\"DEPARTAMENTO\"]==departamento][partidos_ddt].astype(bool).sum().max()/len(df_ddt[df_ddt[\"DEPARTAMENTO\"]==departamento]))+\"%\")\n",
    "print(\"\\n#EleccionesGT2023\")"
   ]
  },
  {
   "cell_type": "code",
   "execution_count": 805,
   "metadata": {},
   "outputs": [
    {
     "name": "stdout",
     "output_type": "stream",
     "text": [
      "Participación hasta el momento:\n",
      "\n",
      "Alta Verapaz 74%\n",
      "Baja Verapaz 71%\n",
      "Chimaltenango 74%\n",
      "Chiquimula 71%\n",
      "Distrito Central 69%\n",
      "El Progreso 74%\n",
      "Escuintla 72%\n",
      "Guatemala 72%\n",
      "Huehuetenango 69%\n",
      "Izabal 70%\n",
      "Jalapa 70%\n",
      "Jutiapa 72%\n",
      "Petén 69%\n",
      "Quetzaltenango 71%\n",
      "Quiché 73%\n",
      "Retalhuleu 72%\n",
      "Sacatepéquez 76%\n",
      "San Marcos 69%\n",
      "Santa Rosa 72%\n",
      "Sololá 81%\n",
      "Suchitepéquez 74%\n",
      "Totonicapán 70%\n",
      "Zacapa 72%\n",
      "\n",
      "#EleccionesGT2023\n"
     ]
    }
   ],
   "source": [
    "#participacion\n",
    "print(\"Participación hasta el momento:\\n\")\n",
    "for departamento in dip_ddt:\n",
    "    usadas=int(df_pre[['DEPARTAMENTO','PAPELETAS-RECIBIDAS']][df_pre[\"DEPARTAMENTO\"]==departamento]['PAPELETAS-RECIBIDAS'].sum())\n",
    "    no_usadas=int(df_pre[['DEPARTAMENTO','PAPELETAS-NO-USADAS']][df_pre[\"DEPARTAMENTO\"]==departamento]['PAPELETAS-NO-USADAS'].sum())\n",
    "    print(departamento+\" {:.0f}\".format(100*usadas/(usadas+no_usadas))+\"%\")\n",
    "print(\"\\n#EleccionesGT2023\")"
   ]
  },
  {
   "cell_type": "code",
   "execution_count": 806,
   "metadata": {},
   "outputs": [
    {
     "name": "stdout",
     "output_type": "stream",
     "text": [
      "Correlación entre presidente y alcalde:\n",
      "\n",
      "Alta Verapaz 0.765\n",
      "Baja Verapaz 0.734\n",
      "Chimaltenango 0.414\n",
      "Chiquimula 0.765\n",
      "Distrito Central 0.146\n",
      "El Progreso 0.689\n",
      "Escuintla 0.718\n",
      "Guatemala 0.448\n",
      "Huehuetenango 0.895\n",
      "Izabal 0.691\n",
      "Jalapa 0.682\n",
      "Jutiapa 0.383\n",
      "Petén 0.774\n",
      "Quetzaltenango 0.372\n",
      "Quiché 0.894\n",
      "Retalhuleu 0.458\n",
      "Sacatepéquez 0.324\n",
      "San Marcos 0.483\n",
      "Santa Rosa 0.764\n",
      "Sololá 0.848\n",
      "Suchitepéquez 0.469\n",
      "Totonicapán 0.668\n",
      "Zacapa 0.718\n"
     ]
    }
   ],
   "source": [
    "#correlacion\n",
    "print(\"Correlación entre presidente y alcalde:\\n\")\n",
    "for departamento in dip_ddt:\n",
    "    x=df_pre[partidos_pre+['DEPARTAMENTO']][df_pre['DEPARTAMENTO']==departamento][partidos_pre].sum()\n",
    "    y=df_mun[partidos_pre+['DEPARTAMENTO']][df_mun['DEPARTAMENTO']==departamento][partidos_pre].sum()\n",
    "    print(departamento+\" {:.3f}\".format(np.corrcoef(x, y)[0,1]))"
   ]
  },
  {
   "cell_type": "code",
   "execution_count": 807,
   "metadata": {},
   "outputs": [
    {
     "name": "stdout",
     "output_type": "stream",
     "text": [
      "Correlación entre presidente y diputados lista nacional:\n",
      "\n",
      "Alta Verapaz 0.893\n",
      "Baja Verapaz 0.859\n",
      "Chimaltenango 0.889\n",
      "Chiquimula 0.814\n",
      "Distrito Central 0.941\n",
      "El Progreso 0.838\n",
      "Escuintla 0.929\n",
      "Guatemala 0.953\n",
      "Huehuetenango 0.957\n",
      "Izabal 0.864\n",
      "Jalapa 0.870\n",
      "Jutiapa 0.606\n",
      "Petén 0.908\n",
      "Quetzaltenango 0.847\n",
      "Quiché 0.944\n",
      "Retalhuleu 0.830\n",
      "Sacatepéquez 0.956\n",
      "San Marcos 0.735\n",
      "Santa Rosa 0.869\n",
      "Sololá 0.933\n",
      "Suchitepéquez 0.779\n",
      "Totonicapán 0.880\n",
      "Zacapa 0.821\n"
     ]
    }
   ],
   "source": [
    "print(\"Correlación entre presidente y diputados lista nacional:\\n\")\n",
    "for departamento in dip_ddt:\n",
    "    x=df_pre[partidos_pre+['DEPARTAMENTO']][df_pre['DEPARTAMENTO']==departamento][partidos_pre].sum()\n",
    "    y=df_dnc[partidos_pre+['DEPARTAMENTO']][df_dnc['DEPARTAMENTO']==departamento][partidos_pre].sum()\n",
    "    print(departamento+\" {:.3f}\".format(np.corrcoef(x, y)[0,1]))"
   ]
  },
  {
   "cell_type": "code",
   "execution_count": 808,
   "metadata": {},
   "outputs": [
    {
     "name": "stdout",
     "output_type": "stream",
     "text": [
      "Correlación entre presidente y diputados distrital:\n",
      "\n",
      "Alta Verapaz 0.871\n",
      "Baja Verapaz 0.816\n",
      "Chimaltenango 0.763\n",
      "Chiquimula 0.567\n",
      "Distrito Central 0.935\n",
      "El Progreso 0.669\n",
      "Escuintla 0.848\n",
      "Guatemala 0.886\n",
      "Huehuetenango 0.941\n",
      "Izabal 0.787\n",
      "Jalapa 0.747\n",
      "Jutiapa 0.394\n",
      "Petén 0.875\n",
      "Quetzaltenango 0.759\n",
      "Quiché 0.936\n",
      "Retalhuleu 0.532\n",
      "Sacatepéquez 0.923\n",
      "San Marcos 0.642\n",
      "Santa Rosa 0.785\n",
      "Sololá 0.919\n",
      "Suchitepéquez 0.680\n",
      "Totonicapán 0.783\n",
      "Zacapa 0.700\n"
     ]
    }
   ],
   "source": [
    "print(\"Correlación entre presidente y diputados distrital:\\n\")\n",
    "for departamento in dip_ddt:\n",
    "    x=df_pre[partidos_pre+['DEPARTAMENTO']][df_pre['DEPARTAMENTO']==departamento][partidos_pre].sum()\n",
    "    y=df_ddt[partidos_pre+['DEPARTAMENTO']][df_ddt['DEPARTAMENTO']==departamento][partidos_pre].sum()\n",
    "    print(departamento+\" {:.3f}\".format(np.corrcoef(x, y)[0,1]))"
   ]
  },
  {
   "cell_type": "code",
   "execution_count": 840,
   "metadata": {},
   "outputs": [
    {
     "name": "stdout",
     "output_type": "stream",
     "text": [
      "Correlación entre alcaldes y diputados distrital:\n",
      "\n",
      "Alta Verapaz 0.969\n",
      "Baja Verapaz 0.906\n",
      "Chimaltenango 0.835\n",
      "Chiquimula 0.835\n",
      "Distrito Central 0.205\n",
      "El Progreso 0.969\n",
      "Escuintla 0.931\n",
      "Guatemala 0.488\n",
      "Huehuetenango 0.983\n",
      "Izabal 0.978\n",
      "Jalapa 0.985\n",
      "Jutiapa 0.903\n",
      "Petén 0.908\n",
      "Quetzaltenango 0.857\n",
      "Quiché 0.991\n",
      "Retalhuleu 0.912\n",
      "Sacatepéquez 0.589\n",
      "San Marcos 0.939\n",
      "Santa Rosa 0.993\n",
      "Sololá 0.961\n",
      "Suchitepéquez 0.924\n",
      "Totonicapán 0.964\n",
      "Zacapa 0.970\n"
     ]
    }
   ],
   "source": [
    "print(\"Correlación entre alcaldes y diputados distrital:\\n\")\n",
    "interseccion=list(set(partidos_ddt) & set(partidos_mun))\n",
    "for departamento in dip_ddt:\n",
    "    x=df_ddt[interseccion+['DEPARTAMENTO']][df_ddt['DEPARTAMENTO']==departamento][interseccion].sum()\n",
    "    y=df_mun[interseccion+['DEPARTAMENTO']][df_mun['DEPARTAMENTO']==departamento][interseccion].sum()\n",
    "    print(departamento+\" {:.3f}\".format(np.corrcoef(x, y)[0,1]))"
   ]
  },
  {
   "cell_type": "code",
   "execution_count": 841,
   "metadata": {},
   "outputs": [
    {
     "name": "stdout",
     "output_type": "stream",
     "text": [
      "Correlación entre alcaldes y diputados nacional:\n",
      "\n",
      "Alta Verapaz 0.960\n",
      "Baja Verapaz 0.938\n",
      "Chimaltenango 0.744\n",
      "Chiquimula 0.967\n",
      "Distrito Central 0.134\n",
      "El Progreso 0.958\n",
      "Escuintla 0.855\n",
      "Guatemala 0.435\n",
      "Huehuetenango 0.977\n",
      "Izabal 0.954\n",
      "Jalapa 0.906\n",
      "Jutiapa 0.922\n",
      "Petén 0.930\n",
      "Quetzaltenango 0.733\n",
      "Quiché 0.984\n",
      "Retalhuleu 0.779\n",
      "Sacatepéquez 0.460\n",
      "San Marcos 0.924\n",
      "Santa Rosa 0.975\n",
      "Sololá 0.957\n",
      "Suchitepéquez 0.886\n",
      "Totonicapán 0.918\n",
      "Zacapa 0.949\n"
     ]
    }
   ],
   "source": [
    "print(\"Correlación entre alcaldes y diputados nacional:\\n\")\n",
    "interseccion=list(set(partidos_dnc) & set(partidos_mun))\n",
    "for departamento in dip_ddt:\n",
    "    x=df_dnc[interseccion+['DEPARTAMENTO']][df_dnc['DEPARTAMENTO']==departamento][interseccion].sum()\n",
    "    y=df_mun[interseccion+['DEPARTAMENTO']][df_mun['DEPARTAMENTO']==departamento][interseccion].sum()\n",
    "    print(departamento+\" {:.3f}\".format(np.corrcoef(x, y)[0,1]))"
   ]
  },
  {
   "cell_type": "code",
   "execution_count": 842,
   "metadata": {},
   "outputs": [
    {
     "name": "stdout",
     "output_type": "stream",
     "text": [
      "Correlación entre diputados distritales y nacional:\n",
      "\n",
      "Alta Verapaz 0.985\n",
      "Baja Verapaz 0.957\n",
      "Chimaltenango 0.939\n",
      "Chiquimula 0.897\n",
      "Distrito Central 0.986\n",
      "El Progreso 0.929\n",
      "Escuintla 0.930\n",
      "Guatemala 0.959\n",
      "Huehuetenango 0.989\n",
      "Izabal 0.982\n",
      "Jalapa 0.922\n",
      "Jutiapa 0.937\n",
      "Petén 0.985\n",
      "Quetzaltenango 0.948\n",
      "Quiché 0.994\n",
      "Retalhuleu 0.820\n",
      "Sacatepéquez 0.987\n",
      "San Marcos 0.980\n",
      "Santa Rosa 0.977\n",
      "Sololá 0.973\n",
      "Suchitepéquez 0.980\n",
      "Totonicapán 0.945\n",
      "Zacapa 0.968\n"
     ]
    }
   ],
   "source": [
    "print(\"Correlación entre diputados distritales y nacional:\\n\")\n",
    "interseccion=list(set(partidos_dnc) & set(partidos_ddt))\n",
    "for departamento in dip_ddt:\n",
    "    x=df_dnc[interseccion+['DEPARTAMENTO']][df_dnc['DEPARTAMENTO']==departamento][interseccion].sum()\n",
    "    y=df_ddt[interseccion+['DEPARTAMENTO']][df_ddt['DEPARTAMENTO']==departamento][interseccion].sum()\n",
    "    print(departamento+\" {:.3f}\".format(np.corrcoef(x, y)[0,1]))"
   ]
  },
  {
   "cell_type": "code",
   "execution_count": 849,
   "metadata": {},
   "outputs": [],
   "source": [
    "#cluster\n",
    "df_sca=df_pre[partidos_pre+['DEPARTAMENTO']].groupby(df_pre['DEPARTAMENTO']).sum().copy()"
   ]
  },
  {
   "cell_type": "code",
   "execution_count": 856,
   "metadata": {},
   "outputs": [],
   "source": [
    "df_nor=df_sca.div(df_sca.sum(axis=1), axis=0).copy()"
   ]
  },
  {
   "cell_type": "code",
   "execution_count": 873,
   "metadata": {},
   "outputs": [],
   "source": [
    "complete_clustering = linkage(df_nor, method=\"complete\", metric=\"euclidean\")\n",
    "average_clustering = linkage(df_nor, method=\"average\", metric=\"euclidean\")\n",
    "single_clustering = linkage(df_nor, method=\"single\", metric=\"euclidean\")"
   ]
  },
  {
   "cell_type": "code",
   "execution_count": 887,
   "metadata": {},
   "outputs": [
    {
     "data": {
      "image/png": "[encoded data removed]",
      "text/plain": [
       "<Figure size 720x360 with 1 Axes>"
      ]
     },
     "metadata": {
      "needs_background": "light"
     },
     "output_type": "display_data"
    }
   ],
   "source": [
    "dendrogram(complete_clustering, leaf_rotation=90,leaf_font_size=12, labels=df_nor.index, color_threshold=0.21)\n",
    "plt.axhline(y=0.21, c='grey', lw=1, linestyle='dashed')\n",
    "plt.title('Similitud de Voto Elección para Presidente\\nGuatemala 2023 (Primera Vuelta)')\n",
    "plt.ylabel(\"Distancia normalizada\")\n",
    "plt.show()"
   ]
  }
 ],
 "metadata": {
  "kernelspec": {
   "display_name": "Python 3",
   "language": "python",
   "name": "python3"
  },
  "language_info": {
   "codemirror_mode": {
    "name": "ipython",
    "version": 3
   },
   "file_extension": ".py",
   "mimetype": "text/x-python",
   "name": "python",
   "nbconvert_exporter": "python",
   "pygments_lexer": "ipython3",
   "version": "3.7.7"
  }
 },
 "nbformat": 4,
 "nbformat_minor": 4
}
